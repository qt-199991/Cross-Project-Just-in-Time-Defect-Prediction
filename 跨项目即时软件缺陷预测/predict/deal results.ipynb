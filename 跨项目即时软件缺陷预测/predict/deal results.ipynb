{
 "cells": [
  {
   "cell_type": "code",
   "execution_count": 2,
   "metadata": {
    "collapsed": true
   },
   "outputs": [],
   "source": [
    "import os\n",
    "import pandas as pd\n",
    "import numpy as np"
   ]
  },
  {
   "cell_type": "markdown",
   "source": [
    "每对实验（共30对）的对应的auc,recall这些值是多少 11111111"
   ],
   "metadata": {
    "collapsed": false
   }
  },
  {
   "cell_type": "code",
   "source": [
    "pwd = os.getcwd()\n",
    "# father_path = os.path.abspath(os.path.dirname(pwd) + os.path.sep + \".\")\n",
    "# resultspath = father_path + '/svc results/'\n",
    "# spath = father_path + '/deal results/Mean/svc/'\n",
    "resultspath = 'E:/360downloads/5000-2000到balance/svc results/'\n",
    "print('resultspath:',resultspath)\n",
    "spath = 'E:/360downloads/5000-2000到balance/mean_cls_method/svc/'\n",
    "if not os.path.exists(spath):\n",
    "        os.mkdir(spath)"
   ],
   "metadata": {
    "collapsed": false
   },
   "execution_count": 2,
   "outputs": []
  },
  {
   "cell_type": "code",
   "execution_count": 1,
   "outputs": [
    {
     "ename": "NameError",
     "evalue": "name 'os' is not defined",
     "output_type": "error",
     "traceback": [
      "\u001B[1;31m---------------------------------------------------------------------------\u001B[0m",
      "\u001B[1;31mNameError\u001B[0m                                 Traceback (most recent call last)",
      "Cell \u001B[1;32mIn[1], line 3\u001B[0m\n\u001B[0;32m      1\u001B[0m \u001B[38;5;66;03m# resultspath = 'E:/360downloads/5000-2000到balance/lr results/'\u001B[39;00m\n\u001B[0;32m      2\u001B[0m \u001B[38;5;66;03m# spath = 'E:/360downloads/5000-2000到balance/lr/'\u001B[39;00m\n\u001B[1;32m----> 3\u001B[0m csvfiles \u001B[38;5;241m=\u001B[39m \u001B[43mos\u001B[49m\u001B[38;5;241m.\u001B[39mlistdir(resultspath)\n\u001B[0;32m      4\u001B[0m \u001B[38;5;28mprint\u001B[39m(csvfiles)\n\u001B[0;32m      5\u001B[0m \u001B[38;5;28;01mfor\u001B[39;00m i \u001B[38;5;129;01min\u001B[39;00m \u001B[38;5;28mrange\u001B[39m(\u001B[38;5;28mlen\u001B[39m(csvfiles)):\n",
      "\u001B[1;31mNameError\u001B[0m: name 'os' is not defined"
     ]
    }
   ],
   "source": [
    "# resultspath = 'E:/360downloads/5000-2000到balance/lr results/'\n",
    "# spath = 'E:/360downloads/5000-2000到balance/lr/'\n",
    "csvfiles = os.listdir(resultspath)\n",
    "print(csvfiles)\n",
    "for i in range(len(csvfiles)):\n",
    "    columnname = [csvfiles[i].rstrip(\".csv\")]\n",
    "    dfi = pd.read_csv(resultspath + csvfiles[i])\n",
    "    dfi = dfi.replace(np.nan, 0)  # replace the NAN to 0\n",
    "    # print(len(dfi))\n",
    "    learnername = csvfiles[i].split(\"_\")[-1].rstrip(\".csv\")\n",
    "    index = []\n",
    "    for ind in range(0, len(dfi), 5):\n",
    "        targetindex = dfi[\"Target\"][ind]\n",
    "        # print('targetindex',targetindex)\n",
    "        sourceindex = dfi['Source'][ind]\n",
    "        tempindex = str(sourceindex) + '->' + str(targetindex)\n",
    "        # print('tempindex',tempindex)\n",
    "        index.append(tempindex)\n",
    "    dfiMean = pd.DataFrame()\n",
    "    for m in range(0, len(dfi), 5):\n",
    "            # print('m',m) #0,30,60\n",
    "            tempdfiMean = pd.DataFrame(dfi.iloc[m:m+5, 3:].mean() * 100)  # the first column is \"Unnamed: 0\"\n",
    "            # print('tempdfiMean',tempdfiMean)\n",
    "            dfiMean = pd.concat([dfiMean, tempdfiMean.T])\n",
    "            # print('dfiMean',dfiMean)\n",
    "    dfiMean.index = index\n",
    "    dfiMean.to_csv(spath + \"Mean_svc_\" + csvfiles[i], index=True,float_format='%.2f')"
   ],
   "metadata": {
    "collapsed": false
   }
  },
  {
   "cell_type": "markdown",
   "source": [
    "每对实验（30对）在不同方法上的auc(recall等值)对比 222222222"
   ],
   "metadata": {
    "collapsed": false
   }
  },
  {
   "cell_type": "code",
   "execution_count": 44,
   "outputs": [],
   "source": [
    "resultspath = 'E:/360downloads/5000-2000到balance/mean_cls_method/nb/'\n",
    "spath = 'E:/360downloads/5000-2000到balance/meanall_measure/nb/'"
   ],
   "metadata": {
    "collapsed": false
   }
  },
  {
   "cell_type": "code",
   "execution_count": 45,
   "outputs": [
    {
     "name": "stdout",
     "output_type": "stream",
     "text": [
      "tqdm: ['Mean_nb_BF.csv', 'Mean_nb_DFAC.csv', 'Mean_nb_DMDA_JFR.csv', 'Mean_nb_HISNN.csv', 'Mean_nb_ISKMM.csv']\n",
      "name AUC\n",
      "save_path E:/360downloads/5000-2000到balance/meanall_measure/nb/AUC_nb_.csv\n",
      "name F1\n",
      "save_path E:/360downloads/5000-2000到balance/meanall_measure/nb/F1_nb_.csv\n",
      "name MCC\n",
      "save_path E:/360downloads/5000-2000到balance/meanall_measure/nb/MCC_nb_.csv\n",
      "name G_Mean\n",
      "save_path E:/360downloads/5000-2000到balance/meanall_measure/nb/G_Mean_nb_.csv\n",
      "name Balance\n",
      "save_path E:/360downloads/5000-2000到balance/meanall_measure/nb/Balance_nb_.csv\n",
      "name Recall\n",
      "save_path E:/360downloads/5000-2000到balance/meanall_measure/nb/Recall_nb_.csv\n",
      "name PF\n",
      "save_path E:/360downloads/5000-2000到balance/meanall_measure/nb/PF_nb_.csv\n",
      "name Precision\n",
      "save_path E:/360downloads/5000-2000到balance/meanall_measure/nb/Precision_nb_.csv\n"
     ]
    }
   ],
   "source": [
    "df_list = [] #创建新列表用来存储提取出来的列表\n",
    "tqdm=os.listdir(resultspath)#文件夹中的文件列表\n",
    "print('tqdm:',tqdm)\n",
    "mearuse = ['AUC','F1','MCC','G_Mean','Balance','Recall','PF','Precision']\n",
    "j = 1\n",
    "for name in mearuse:\n",
    "    df_list = []\n",
    "    print('name',name)\n",
    "    for i in range(0,len(tqdm)):#逐次遍历文件夹下的文件\n",
    "        files_path = os.path.join(resultspath,tqdm[i])#对应文件夹下的某份文件\n",
    "        df = pd.read_csv(files_path)##读取CSV文件数据\n",
    "        data = df.iloc[:,j:j+1]\n",
    "        #这里实现提取第一份数据的x与y轴数据，其他文件只提取y轴数据\n",
    "        # if i ==0:\n",
    "        #     data = df.iloc[:,1:2]#选取文件中某行某列数据\n",
    "        # else:\n",
    "        #     data = df.iloc[:,1]\n",
    "        df_list.append(data)#将选取的数据添加到列表\n",
    "    df2 = pd.concat(df_list,axis=1)#将列表数据按列合并，axis=1表示按列整合\n",
    "    df2.columns=['BF', 'DFAC', 'DMDA_JFR', 'HISNN', 'kwm']\n",
    "    df2.index = index\n",
    "    # print(df2)\n",
    "    spath11 = name +  '_nb' + '.csv'\n",
    "    save_path=os.path.join(spath,spath11)#定义保存存放整合后数据的路径\n",
    "    print('save_path',save_path)\n",
    "    df2.to_csv(save_path,index=True)#将整合好的数据输入到新建的csv文件中\n",
    "    j = j + 1"
   ],
   "metadata": {
    "collapsed": false
   }
  },
  {
   "cell_type": "code",
   "execution_count": 9,
   "outputs": [],
   "source": [
    "import pandas as pd\n",
    "import os\n",
    "import numpy as np"
   ],
   "metadata": {
    "collapsed": false
   }
  },
  {
   "cell_type": "markdown",
   "source": [
    "分析ISKMM对每一对实验的影响 33333333"
   ],
   "metadata": {
    "collapsed": false
   }
  },
  {
   "cell_type": "code",
   "execution_count": 56,
   "outputs": [
    {
     "name": "stdout",
     "output_type": "stream",
     "text": [
      "E:/360downloads/5000-2000到balance/mean_cls_method/nb/Mean_nb_ISKMM.csv\n",
      "[1]\n",
      "[1, 6]\n",
      "[1, 6, 14]\n",
      "[1, 6, 14, 18]\n",
      "[1, 6, 14, 18, 22]\n",
      "[1, 6, 14, 18, 22, 28]\n"
     ]
    }
   ],
   "source": [
    "#取F值最大的那一行，作为该目标项目的迁移结果\n",
    "# spath = 'F:/朱老师课题/自己的代码/研究点一/deal results/Mean/svc/Mean_svc_kwm.csv'\n",
    "# clsnames = ['BF', 'DFAC', 'DMDA_JFR', 'HISNN', 'ISKMM']\n",
    "clsnames = [ 'ISKMM']\n",
    "for clsname in clsnames:\n",
    "    spath = 'E:/360downloads/5000-2000到balance/mean_cls_method/nb/Mean_nb_' + clsname + '.csv'\n",
    "    print(spath)\n",
    "    df = pd.read_csv(spath)\n",
    "    col_name = df.columns.values\n",
    "    X = df[col_name[2:3]].values\n",
    "    index = []\n",
    "    max_f1_arr = []\n",
    "    for ind in range(0, len(X), 5):\n",
    "        max_score_arr= X[ind:ind+5].argmax()\n",
    "        max_f1_arr.append(ind + max_score_arr)   #这里返回的是F1最大值所在的行，因为通常F1好的行总体性能都较好\n",
    "        print(max_f1_arr)  #返回每个项目F1对应最大值的索引\n",
    "    index = []\n",
    "    name = []\n",
    "    scores_1 = []\n",
    "    df = pd.read_csv(spath)\n",
    "    col_name = df.columns.values\n",
    "    X = df[col_name[1:]].values\n",
    "    for i in max_f1_arr:\n",
    "        # print(i)\n",
    "        max_arr= X[i]\n",
    "        # print(max_arr)\n",
    "        scores_1.append(max_arr)\n",
    "    # scores_1 = np.transpose(scores_1)  #矩阵的转置\n",
    "    scores = pd.DataFrame(scores_1,index=['broadleaf','go','nova', 'openstack','platform','qt'],columns=['AUC', 'F1', 'MCC', 'G-Mean', 'Balance', 'Recall', 'PF', 'Precision'])\n",
    "    # scores.to_csv('F:/朱老师课题/自己的代码/研究点一/deal results/compare_intra_cross/cross_project_svc.csv')\n",
    "    scores.to_csv('E:/360downloads/5000-2000到balance/compare_iskmm_inter/max/nb/cross_project_' + clsname + '.csv')"
   ],
   "metadata": {
    "collapsed": false
   }
  },
  {
   "cell_type": "code",
   "execution_count": 49,
   "outputs": [],
   "source": [
    "#取每个项目的所有迁移实验的平均值\n",
    "clsnames = ['BF', 'DFAC', 'DMDA_JFR', 'HISNN', 'ISKMM']\n",
    "index = ['broadleaf','go','nova', 'openstack','platform','qt']\n",
    "for clsname in clsnames:\n",
    "    spath = 'E:/360downloads/5000-2000到balance/mean_cls_method/lr/Mean_lr_' + clsname + '.csv'\n",
    "    # print(spath)\n",
    "    df = pd.read_csv(spath)\n",
    "    col_name = df.columns.values\n",
    "    dfiMean = pd.DataFrame()\n",
    "    for ind in range(0, len(df), 5):\n",
    "        tempdfiMean = pd.DataFrame(df.iloc[ind : ind + 5, 1:].mean())\n",
    "        # print(tempdfiMean.T)\n",
    "        dfiMean = pd.concat([dfiMean, tempdfiMean.T])\n",
    "    # print(dfiMean)\n",
    "    dfiMean.index = index\n",
    "\n",
    "    dfiMean.to_csv('E:/360downloads/5000-2000到balance/compare_iskmm_inter/lr/cross_project_' + clsname + '.csv', index=True)\n"
   ],
   "metadata": {
    "collapsed": false
   }
  },
  {
   "cell_type": "markdown",
   "source": [
    "#把kwm中每一个项目的预测结果打印出来"
   ],
   "metadata": {
    "collapsed": false
   }
  },
  {
   "cell_type": "code",
   "execution_count": 20,
   "outputs": [],
   "source": [
    "# spath = 'E:/360downloads/5000-2000到balance/mean_cls_method/lr/Mean_lr_ISKMM.csv'\n",
    "# index = []\n",
    "# name = []\n",
    "# scores_1 = []\n",
    "# df = pd.read_csv(spath)\n",
    "# col_name = df.columns.values\n",
    "# X = df[col_name[1:]].values\n",
    "# for i in max_f1_arr:\n",
    "#     # print(i)\n",
    "#     max_arr= X[i]\n",
    "#     # print(max_arr)\n",
    "#     scores_1.append(max_arr)\n",
    "# # scores_1 = np.transpose(scores_1)  #矩阵的转置\n",
    "# scores = pd.DataFrame(scores_1,index=['broadleaf','go','nova', 'openstack','platform','qt'],columns=['AUC', 'F1', 'MCC', 'G-Mean', 'Balance', 'Recall', 'PF', 'Precision'])\n",
    "# # scores.to_csv('F:/朱老师课题/自己的代码/研究点一/deal results/compare_intra_cross/cross_project_svc.csv')\n",
    "# scores.to_csv('E:/360downloads/5000-2000到balance/compare_iskmm_inter/svc/cross_project_' +  + '.csv')"
   ],
   "metadata": {
    "collapsed": false
   }
  },
  {
   "cell_type": "code",
   "execution_count": 7,
   "outputs": [
    {
     "name": "stdout",
     "output_type": "stream",
     "text": [
      "['AUC_nb_.csv', 'Balance_nb_.csv', 'F1_nb_.csv', 'G_Mean_nb_.csv', 'MCC_nb_.csv', 'PF_nb_.csv', 'Precision_nb_.csv', 'Recall_nb_.csv']\n"
     ]
    }
   ],
   "source": [
    "# # resultspath = 'F:/朱老师课题/自己的代码/研究点一/deal results/Mean_all/svc/'\n",
    "# resultspath = 'E:/360downloads/5000-2000到balance/meanall_measure/nb/'\n",
    "# csvfiles = os.listdir(resultspath)\n",
    "# print(csvfiles)"
   ],
   "metadata": {
    "collapsed": false
   }
  },
  {
   "cell_type": "markdown",
   "source": [
    "在所提出的方法下每个数据集（6个数据集）的auc,recall这些值"
   ],
   "metadata": {
    "collapsed": false
   }
  },
  {
   "cell_type": "code",
   "execution_count": 8,
   "outputs": [],
   "source": [
    "# name = []\n",
    "# scores_1 = []\n",
    "# for i in range(len(csvfiles)):\n",
    "#     columnname = [csvfiles[i].rstrip(\".csv\")]\n",
    "#     # name.extend(columnname)\n",
    "#     df = pd.read_csv(resultspath + csvfiles[i])\n",
    "#     col_name = df.columns.values\n",
    "#     X = df[col_name[5:]].values\n",
    "#     index = []\n",
    "#     i = 0\n",
    "#     for ind in range(0, len(X), 5):\n",
    "#        # mean_score_arr= X[ind:ind+5].mean()\n",
    "#        # mean_score_arr= X[ind:ind+5].max()#这样是很不对，但取每个值的最大值，并不代表每个项目的最大值，这样没有意义\n",
    "#        max_arr= X[max_f1_arr[i]]\n",
    "#        i = i + 1\n",
    "#        index.extend(max_arr)\n",
    "#     scores_1.append(index)\n",
    "# scores_1 = np.transpose(scores_1)  #矩阵的转置\n",
    "# scores = pd.DataFrame(scores_1,index=['broadleaf','go','nova', 'openstack','platform','qt'],columns=['AUC', 'Balance', 'F1', 'G_Mean', 'MCC', 'PF', 'Precision', 'Recall'])\n",
    "# # scores.to_csv('F:/朱老师课题/自己的代码/研究点一/deal results/compare_intra_cross/cross_project_svc.csv')\n",
    "# scores.to_csv('E:/360downloads/5000-2000到balance/compare_iskmm_inter/cross_project_nb.csv')"
   ],
   "metadata": {
    "collapsed": false
   }
  },
  {
   "cell_type": "code",
   "execution_count": null,
   "outputs": [],
   "source": [],
   "metadata": {
    "collapsed": false
   }
  }
 ],
 "metadata": {
  "kernelspec": {
   "display_name": "Python 3",
   "language": "python",
   "name": "python3"
  },
  "language_info": {
   "codemirror_mode": {
    "name": "ipython",
    "version": 2
   },
   "file_extension": ".py",
   "mimetype": "text/x-python",
   "name": "python",
   "nbconvert_exporter": "python",
   "pygments_lexer": "ipython2",
   "version": "2.7.6"
  }
 },
 "nbformat": 4,
 "nbformat_minor": 0
}
